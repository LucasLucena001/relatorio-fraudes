{
  "nbformat": 4,
  "nbformat_minor": 0,
  "metadata": {
    "colab": {
      "provenance": [],
      "authorship_tag": "ABX9TyP0Tgm9j/Kln+ii/Hiw3Sly",
      "include_colab_link": true
    },
    "kernelspec": {
      "name": "python3",
      "display_name": "Python 3"
    },
    "language_info": {
      "name": "python"
    }
  },
  "cells": [
    {
      "cell_type": "markdown",
      "metadata": {
        "id": "view-in-github",
        "colab_type": "text"
      },
      "source": [
        "<a href=\"https://colab.research.google.com/github/LucasLucena001/relatorio-fraudes/blob/main/relatorio_fraudes.ipynb\" target=\"_parent\"><img src=\"https://colab.research.google.com/assets/colab-badge.svg\" alt=\"Open In Colab\"/></a>"
      ]
    },
    {
      "cell_type": "code",
      "source": [
        "import pandas as pd"
      ],
      "metadata": {
        "id": "65nYydiHfN6o"
      },
      "execution_count": null,
      "outputs": []
    },
    {
      "cell_type": "code",
      "source": [
        "df = pd.read_csv('/content/public_servant_purchases_new.csv')"
      ],
      "metadata": {
        "id": "c0VJsGYffJdK"
      },
      "execution_count": null,
      "outputs": []
    },
    {
      "cell_type": "code",
      "source": [
        "df.head()"
      ],
      "metadata": {
        "colab": {
          "base_uri": "https://localhost:8080/",
          "height": 206
        },
        "id": "kuKeoV5GfVJE",
        "outputId": "549c5cb6-716a-47f1-92a5-51e53a6660e5"
      },
      "execution_count": null,
      "outputs": [
        {
          "output_type": "execute_result",
          "data": {
            "text/plain": [
              "  nome_do_funcionario                item_comprado  valor_em_real  \\\n",
              "0        Amanda Jones                   Copy Paper         227.00   \n",
              "1      Patrick Kavuma         Counselling Services          88.00   \n",
              "2        Daljit Singh                       Tablet        1299.00   \n",
              "3       NARKOTA, ATEE  GASOLINA NATURAL ASASIN 100          17.60   \n",
              "4         Cheryl Vile     Computer and accessories           2.81   \n",
              "\n",
              "        data_da_compra  \n",
              "0  2024-12-01 18:05:04  \n",
              "1  2024-01-18 18:26:17  \n",
              "2  2024-06-12 09:05:57  \n",
              "3  2024-03-07 15:11:16  \n",
              "4  2024-03-20 10:48:04  "
            ],
            "text/html": [
              "\n",
              "  <div id=\"df-445b0d5c-301e-45f6-a0bb-065a0916897b\" class=\"colab-df-container\">\n",
              "    <div>\n",
              "<style scoped>\n",
              "    .dataframe tbody tr th:only-of-type {\n",
              "        vertical-align: middle;\n",
              "    }\n",
              "\n",
              "    .dataframe tbody tr th {\n",
              "        vertical-align: top;\n",
              "    }\n",
              "\n",
              "    .dataframe thead th {\n",
              "        text-align: right;\n",
              "    }\n",
              "</style>\n",
              "<table border=\"1\" class=\"dataframe\">\n",
              "  <thead>\n",
              "    <tr style=\"text-align: right;\">\n",
              "      <th></th>\n",
              "      <th>nome_do_funcionario</th>\n",
              "      <th>item_comprado</th>\n",
              "      <th>valor_em_real</th>\n",
              "      <th>data_da_compra</th>\n",
              "    </tr>\n",
              "  </thead>\n",
              "  <tbody>\n",
              "    <tr>\n",
              "      <th>0</th>\n",
              "      <td>Amanda Jones</td>\n",
              "      <td>Copy Paper</td>\n",
              "      <td>227.00</td>\n",
              "      <td>2024-12-01 18:05:04</td>\n",
              "    </tr>\n",
              "    <tr>\n",
              "      <th>1</th>\n",
              "      <td>Patrick Kavuma</td>\n",
              "      <td>Counselling Services</td>\n",
              "      <td>88.00</td>\n",
              "      <td>2024-01-18 18:26:17</td>\n",
              "    </tr>\n",
              "    <tr>\n",
              "      <th>2</th>\n",
              "      <td>Daljit Singh</td>\n",
              "      <td>Tablet</td>\n",
              "      <td>1299.00</td>\n",
              "      <td>2024-06-12 09:05:57</td>\n",
              "    </tr>\n",
              "    <tr>\n",
              "      <th>3</th>\n",
              "      <td>NARKOTA, ATEE</td>\n",
              "      <td>GASOLINA NATURAL ASASIN 100</td>\n",
              "      <td>17.60</td>\n",
              "      <td>2024-03-07 15:11:16</td>\n",
              "    </tr>\n",
              "    <tr>\n",
              "      <th>4</th>\n",
              "      <td>Cheryl Vile</td>\n",
              "      <td>Computer and accessories</td>\n",
              "      <td>2.81</td>\n",
              "      <td>2024-03-20 10:48:04</td>\n",
              "    </tr>\n",
              "  </tbody>\n",
              "</table>\n",
              "</div>\n",
              "    <div class=\"colab-df-buttons\">\n",
              "\n",
              "  <div class=\"colab-df-container\">\n",
              "    <button class=\"colab-df-convert\" onclick=\"convertToInteractive('df-445b0d5c-301e-45f6-a0bb-065a0916897b')\"\n",
              "            title=\"Convert this dataframe to an interactive table.\"\n",
              "            style=\"display:none;\">\n",
              "\n",
              "  <svg xmlns=\"http://www.w3.org/2000/svg\" height=\"24px\" viewBox=\"0 -960 960 960\">\n",
              "    <path d=\"M120-120v-720h720v720H120Zm60-500h600v-160H180v160Zm220 220h160v-160H400v160Zm0 220h160v-160H400v160ZM180-400h160v-160H180v160Zm440 0h160v-160H620v160ZM180-180h160v-160H180v160Zm440 0h160v-160H620v160Z\"/>\n",
              "  </svg>\n",
              "    </button>\n",
              "\n",
              "  <style>\n",
              "    .colab-df-container {\n",
              "      display:flex;\n",
              "      gap: 12px;\n",
              "    }\n",
              "\n",
              "    .colab-df-convert {\n",
              "      background-color: #E8F0FE;\n",
              "      border: none;\n",
              "      border-radius: 50%;\n",
              "      cursor: pointer;\n",
              "      display: none;\n",
              "      fill: #1967D2;\n",
              "      height: 32px;\n",
              "      padding: 0 0 0 0;\n",
              "      width: 32px;\n",
              "    }\n",
              "\n",
              "    .colab-df-convert:hover {\n",
              "      background-color: #E2EBFA;\n",
              "      box-shadow: 0px 1px 2px rgba(60, 64, 67, 0.3), 0px 1px 3px 1px rgba(60, 64, 67, 0.15);\n",
              "      fill: #174EA6;\n",
              "    }\n",
              "\n",
              "    .colab-df-buttons div {\n",
              "      margin-bottom: 4px;\n",
              "    }\n",
              "\n",
              "    [theme=dark] .colab-df-convert {\n",
              "      background-color: #3B4455;\n",
              "      fill: #D2E3FC;\n",
              "    }\n",
              "\n",
              "    [theme=dark] .colab-df-convert:hover {\n",
              "      background-color: #434B5C;\n",
              "      box-shadow: 0px 1px 3px 1px rgba(0, 0, 0, 0.15);\n",
              "      filter: drop-shadow(0px 1px 2px rgba(0, 0, 0, 0.3));\n",
              "      fill: #FFFFFF;\n",
              "    }\n",
              "  </style>\n",
              "\n",
              "    <script>\n",
              "      const buttonEl =\n",
              "        document.querySelector('#df-445b0d5c-301e-45f6-a0bb-065a0916897b button.colab-df-convert');\n",
              "      buttonEl.style.display =\n",
              "        google.colab.kernel.accessAllowed ? 'block' : 'none';\n",
              "\n",
              "      async function convertToInteractive(key) {\n",
              "        const element = document.querySelector('#df-445b0d5c-301e-45f6-a0bb-065a0916897b');\n",
              "        const dataTable =\n",
              "          await google.colab.kernel.invokeFunction('convertToInteractive',\n",
              "                                                    [key], {});\n",
              "        if (!dataTable) return;\n",
              "\n",
              "        const docLinkHtml = 'Like what you see? Visit the ' +\n",
              "          '<a target=\"_blank\" href=https://colab.research.google.com/notebooks/data_table.ipynb>data table notebook</a>'\n",
              "          + ' to learn more about interactive tables.';\n",
              "        element.innerHTML = '';\n",
              "        dataTable['output_type'] = 'display_data';\n",
              "        await google.colab.output.renderOutput(dataTable, element);\n",
              "        const docLink = document.createElement('div');\n",
              "        docLink.innerHTML = docLinkHtml;\n",
              "        element.appendChild(docLink);\n",
              "      }\n",
              "    </script>\n",
              "  </div>\n",
              "\n",
              "\n",
              "<div id=\"df-c322c212-747a-4235-baca-114b7bde711d\">\n",
              "  <button class=\"colab-df-quickchart\" onclick=\"quickchart('df-c322c212-747a-4235-baca-114b7bde711d')\"\n",
              "            title=\"Suggest charts\"\n",
              "            style=\"display:none;\">\n",
              "\n",
              "<svg xmlns=\"http://www.w3.org/2000/svg\" height=\"24px\"viewBox=\"0 0 24 24\"\n",
              "     width=\"24px\">\n",
              "    <g>\n",
              "        <path d=\"M19 3H5c-1.1 0-2 .9-2 2v14c0 1.1.9 2 2 2h14c1.1 0 2-.9 2-2V5c0-1.1-.9-2-2-2zM9 17H7v-7h2v7zm4 0h-2V7h2v10zm4 0h-2v-4h2v4z\"/>\n",
              "    </g>\n",
              "</svg>\n",
              "  </button>\n",
              "\n",
              "<style>\n",
              "  .colab-df-quickchart {\n",
              "      --bg-color: #E8F0FE;\n",
              "      --fill-color: #1967D2;\n",
              "      --hover-bg-color: #E2EBFA;\n",
              "      --hover-fill-color: #174EA6;\n",
              "      --disabled-fill-color: #AAA;\n",
              "      --disabled-bg-color: #DDD;\n",
              "  }\n",
              "\n",
              "  [theme=dark] .colab-df-quickchart {\n",
              "      --bg-color: #3B4455;\n",
              "      --fill-color: #D2E3FC;\n",
              "      --hover-bg-color: #434B5C;\n",
              "      --hover-fill-color: #FFFFFF;\n",
              "      --disabled-bg-color: #3B4455;\n",
              "      --disabled-fill-color: #666;\n",
              "  }\n",
              "\n",
              "  .colab-df-quickchart {\n",
              "    background-color: var(--bg-color);\n",
              "    border: none;\n",
              "    border-radius: 50%;\n",
              "    cursor: pointer;\n",
              "    display: none;\n",
              "    fill: var(--fill-color);\n",
              "    height: 32px;\n",
              "    padding: 0;\n",
              "    width: 32px;\n",
              "  }\n",
              "\n",
              "  .colab-df-quickchart:hover {\n",
              "    background-color: var(--hover-bg-color);\n",
              "    box-shadow: 0 1px 2px rgba(60, 64, 67, 0.3), 0 1px 3px 1px rgba(60, 64, 67, 0.15);\n",
              "    fill: var(--button-hover-fill-color);\n",
              "  }\n",
              "\n",
              "  .colab-df-quickchart-complete:disabled,\n",
              "  .colab-df-quickchart-complete:disabled:hover {\n",
              "    background-color: var(--disabled-bg-color);\n",
              "    fill: var(--disabled-fill-color);\n",
              "    box-shadow: none;\n",
              "  }\n",
              "\n",
              "  .colab-df-spinner {\n",
              "    border: 2px solid var(--fill-color);\n",
              "    border-color: transparent;\n",
              "    border-bottom-color: var(--fill-color);\n",
              "    animation:\n",
              "      spin 1s steps(1) infinite;\n",
              "  }\n",
              "\n",
              "  @keyframes spin {\n",
              "    0% {\n",
              "      border-color: transparent;\n",
              "      border-bottom-color: var(--fill-color);\n",
              "      border-left-color: var(--fill-color);\n",
              "    }\n",
              "    20% {\n",
              "      border-color: transparent;\n",
              "      border-left-color: var(--fill-color);\n",
              "      border-top-color: var(--fill-color);\n",
              "    }\n",
              "    30% {\n",
              "      border-color: transparent;\n",
              "      border-left-color: var(--fill-color);\n",
              "      border-top-color: var(--fill-color);\n",
              "      border-right-color: var(--fill-color);\n",
              "    }\n",
              "    40% {\n",
              "      border-color: transparent;\n",
              "      border-right-color: var(--fill-color);\n",
              "      border-top-color: var(--fill-color);\n",
              "    }\n",
              "    60% {\n",
              "      border-color: transparent;\n",
              "      border-right-color: var(--fill-color);\n",
              "    }\n",
              "    80% {\n",
              "      border-color: transparent;\n",
              "      border-right-color: var(--fill-color);\n",
              "      border-bottom-color: var(--fill-color);\n",
              "    }\n",
              "    90% {\n",
              "      border-color: transparent;\n",
              "      border-bottom-color: var(--fill-color);\n",
              "    }\n",
              "  }\n",
              "</style>\n",
              "\n",
              "  <script>\n",
              "    async function quickchart(key) {\n",
              "      const quickchartButtonEl =\n",
              "        document.querySelector('#' + key + ' button');\n",
              "      quickchartButtonEl.disabled = true;  // To prevent multiple clicks.\n",
              "      quickchartButtonEl.classList.add('colab-df-spinner');\n",
              "      try {\n",
              "        const charts = await google.colab.kernel.invokeFunction(\n",
              "            'suggestCharts', [key], {});\n",
              "      } catch (error) {\n",
              "        console.error('Error during call to suggestCharts:', error);\n",
              "      }\n",
              "      quickchartButtonEl.classList.remove('colab-df-spinner');\n",
              "      quickchartButtonEl.classList.add('colab-df-quickchart-complete');\n",
              "    }\n",
              "    (() => {\n",
              "      let quickchartButtonEl =\n",
              "        document.querySelector('#df-c322c212-747a-4235-baca-114b7bde711d button');\n",
              "      quickchartButtonEl.style.display =\n",
              "        google.colab.kernel.accessAllowed ? 'block' : 'none';\n",
              "    })();\n",
              "  </script>\n",
              "</div>\n",
              "\n",
              "    </div>\n",
              "  </div>\n"
            ],
            "application/vnd.google.colaboratory.intrinsic+json": {
              "type": "dataframe",
              "variable_name": "df",
              "summary": "{\n  \"name\": \"df\",\n  \"rows\": 5000,\n  \"fields\": [\n    {\n      \"column\": \"nome_do_funcionario\",\n      \"properties\": {\n        \"dtype\": \"string\",\n        \"num_unique_values\": 4717,\n        \"samples\": [\n          \"Mr. J. N. Weeks\",\n          \"Shivaraj D N\",\n          \"Alfred Kone\"\n        ],\n        \"semantic_type\": \"\",\n        \"description\": \"\"\n      }\n    },\n    {\n      \"column\": \"item_comprado\",\n      \"properties\": {\n        \"dtype\": \"string\",\n        \"num_unique_values\": 3695,\n        \"samples\": [\n          \"COAT\",\n          \"Adidas Sportswear\",\n          \"Lorem ipsum dolor sit amet, consectetur adipiscing elit. Sed id dui non turpis scelerisque vestibulum. Donec eget odio ut mi porta accumsan. Vestibulum ante ipsum primis in faucib\"\n        ],\n        \"semantic_type\": \"\",\n        \"description\": \"\"\n      }\n    },\n    {\n      \"column\": \"valor_em_real\",\n      \"properties\": {\n        \"dtype\": \"number\",\n        \"std\": 2425916.193582191,\n        \"min\": -4.9,\n        \"max\": 135000000.0,\n        \"num_unique_values\": 3341,\n        \"samples\": [\n          491.0,\n          236.63,\n          1756.15\n        ],\n        \"semantic_type\": \"\",\n        \"description\": \"\"\n      }\n    },\n    {\n      \"column\": \"data_da_compra\",\n      \"properties\": {\n        \"dtype\": \"object\",\n        \"num_unique_values\": 4359,\n        \"samples\": [\n          \"2024-11-16 10:59:35\",\n          \"2024-06-13 13:27:10\",\n          \"2024-09-21 18:57:47\"\n        ],\n        \"semantic_type\": \"\",\n        \"description\": \"\"\n      }\n    }\n  ]\n}"
            }
          },
          "metadata": {},
          "execution_count": 54
        }
      ]
    },
    {
      "cell_type": "code",
      "source": [],
      "metadata": {
        "id": "WZNmfhwkqQHT"
      },
      "execution_count": null,
      "outputs": []
    },
    {
      "cell_type": "code",
      "source": [
        "def detectar_compras_duplicadas(df):\n",
        "    duplicadas =  df[df.duplicated(subset=['nome_do_funcionario','valor_em_real'])]\n",
        "    return duplicadas\n",
        "\n",
        "\n",
        "print(detectar_compras_duplicadas(df))\n"
      ],
      "metadata": {
        "colab": {
          "base_uri": "https://localhost:8080/"
        },
        "id": "kWO9hpHTfe5j",
        "outputId": "e5c79fb3-d3cb-4088-ed60-890bd5a25fca"
      },
      "execution_count": null,
      "outputs": [
        {
          "output_type": "stream",
          "name": "stdout",
          "text": [
            "     nome_do_funcionario           item_comprado  valor_em_real  \\\n",
            "4572              Julian  Service of parking lot           0.00   \n",
            "4826             Michael       Airsoft 123456789           1.15   \n",
            "\n",
            "          data_da_compra  hora_da_compra  \n",
            "4572 2024-08-18 10:24:32              10  \n",
            "4826 2024-12-13 16:37:43              16  \n"
          ]
        }
      ]
    },
    {
      "cell_type": "code",
      "source": [
        "def verificar_valores_suspeitos(df):\n",
        "  sus = df[df['valor_em_real'] > 1000]\n",
        "  return sus\n",
        "\n",
        "print(verificar_valores_suspeitos(df))"
      ],
      "metadata": {
        "colab": {
          "base_uri": "https://localhost:8080/"
        },
        "id": "sFDnqnMegpMC",
        "outputId": "82845a02-7592-49b5-ae3e-ad3ef9fc7364"
      },
      "execution_count": null,
      "outputs": [
        {
          "output_type": "stream",
          "name": "stdout",
          "text": [
            "                 nome_do_funcionario  \\\n",
            "2                       Daljit Singh   \n",
            "16                      MARTIN LOUIS   \n",
            "23                        Jiang, Hui   \n",
            "33                     JAKE KOWALSKY   \n",
            "34    MARIA ANTONIETA GONZÁLEZ LUIJO   \n",
            "...                              ...   \n",
            "4986                   Ahmed Aljunid   \n",
            "4987                    Mrs. Yang Li   \n",
            "4992                  Hyeon-Soo, Joo   \n",
            "4998                   LAURA JACKSON   \n",
            "4999         Adebisi Adeleke Abiodun   \n",
            "\n",
            "                                          item_comprado  valor_em_real  \\\n",
            "2                                                Tablet        1299.00   \n",
            "16                                    Aluguel de Imóvel        3912.77   \n",
            "23                                         Plane ticket        1267.79   \n",
            "33                   Dell 13 Touchscreen Latitude E5470        1413.98   \n",
            "34         TV 157 CM LCD 1080p Full HD 40W 2 HDMI 1 VGA        3872.00   \n",
            "...                                                 ...            ...   \n",
            "4986                                          Iphone 12       10855.00   \n",
            "4987  Dell Inspiron 3553-N052BLK (Intel Core i5-5200...        2499.00   \n",
            "4992                                    AIR CONDITIONER        1191.00   \n",
            "4998                                      Half Pavement       13168.50   \n",
            "4999  Acquisition of 200000 litres of diesel for the...     2500000.00   \n",
            "\n",
            "           data_da_compra  \n",
            "2     2024-06-12 09:05:57  \n",
            "16    2024-12-18 12:14:32  \n",
            "23    2024-02-21 12:13:46  \n",
            "33    2024-03-13 12:29:57  \n",
            "34    2024-01-29 20:01:56  \n",
            "...                   ...  \n",
            "4986  2024-01-07 11:17:10  \n",
            "4987  2024-10-05 14:34:37  \n",
            "4992  2024-05-19 17:04:34  \n",
            "4998  2024-03-04 03:02:39  \n",
            "4999  2024-06-07 14:24:24  \n",
            "\n",
            "[929 rows x 4 columns]\n"
          ]
        }
      ]
    },
    {
      "cell_type": "code",
      "source": [
        "df['data_da_compra'] = pd.to_datetime(df['data_da_compra'])\n",
        "df['hora_da_compra'] = df['data_da_compra'].dt.hour\n",
        "\n",
        "def compras_fora_de_horario(df):\n",
        "  fora_do_horario = df[(df['hora_da_compra'] < 6) | (df['hora_da_compra'] > 18)]\n",
        "  return fora_do_horario\n",
        "\n",
        "print(compras_fora_de_horario(df))"
      ],
      "metadata": {
        "colab": {
          "base_uri": "https://localhost:8080/"
        },
        "id": "kEM8snNBg-9M",
        "outputId": "3c06ed3e-33a2-46e8-8df5-dbebe7f66da9"
      },
      "execution_count": null,
      "outputs": [
        {
          "output_type": "stream",
          "name": "stdout",
          "text": [
            "     nome_do_funcionario                  item_comprado  valor_em_real  \\\n",
            "5           PRITI SHARMA                      Furniture         260.00   \n",
            "6              Dennis S.                        Tapetes          13.00   \n",
            "8              Davinia A                       Congress         196.85   \n",
            "10        MRS DARLA LISA                       GASOLINA         139.00   \n",
            "14        Piseth Kimsung    RONALD MCDONALD HAPPY MEALS           5.00   \n",
            "...                  ...                            ...            ...   \n",
            "4974    Rejoice Olajuwon                Printer HP 1112         573.76   \n",
            "4981    Mohamed E. Maher  Purchase of medical equipment      134150.00   \n",
            "4993     Terry O\\'Connor             PANCHO\\'S MEXICANA          12.99   \n",
            "4995       Mrs. D Nelson                 Purchase Order          20.21   \n",
            "4998       LAURA JACKSON                  Half Pavement       13168.50   \n",
            "\n",
            "          data_da_compra  hora_da_compra  \n",
            "5    2024-03-24 01:10:00               1  \n",
            "6    2024-06-21 19:17:51              19  \n",
            "8    2024-09-25 02:27:23               2  \n",
            "10   2024-06-11 23:14:08              23  \n",
            "14   2024-01-01 19:02:00              19  \n",
            "...                  ...             ...  \n",
            "4974 2024-12-22 00:19:52               0  \n",
            "4981 2024-11-04 00:09:31               0  \n",
            "4993 2024-05-31 19:50:17              19  \n",
            "4995 2024-07-02 21:51:20              21  \n",
            "4998 2024-03-04 03:02:39               3  \n",
            "\n",
            "[883 rows x 5 columns]\n"
          ]
        }
      ]
    },
    {
      "cell_type": "code",
      "source": [
        "def organizar_por_servidor(df):\n",
        "  dicionario = df.groupby('nome_do_funcionario').apply(lambda x: x.to_dict(orient='records'))\n",
        "  return dicionario\n",
        "\n",
        "dc= organizar_por_servidor(df)\n",
        "\n",
        "print(dc)"
      ],
      "metadata": {
        "colab": {
          "base_uri": "https://localhost:8080/"
        },
        "id": "ndS2C4xohES_",
        "outputId": "1830e802-cdca-4725-8274-376993b940d8"
      },
      "execution_count": null,
      "outputs": [
        {
          "output_type": "stream",
          "name": "stdout",
          "text": [
            "nome_do_funcionario\n",
            "\"Gabriela Lopez\"    [{'nome_do_funcionario': '\"Gabriela Lopez\"', '...\n",
            "1020000000316105    [{'nome_do_funcionario': '1020000000316105', '...\n",
            "143-38-1023         [{'nome_do_funcionario': '143-38-1023', 'item_...\n",
            "17                  [{'nome_do_funcionario': '17', 'item_comprado'...\n",
            "21785               [{'nome_do_funcionario': '21785', 'item_compra...\n",
            "                                          ...                        \n",
            "旭涛                  [{'nome_do_funcionario': '旭涛', 'item_comprado'...\n",
            "梁 逸黎                [{'nome_do_funcionario': '梁 逸黎', 'item_comprad...\n",
            "梁秉霖                 [{'nome_do_funcionario': '梁秉霖', 'item_comprado...\n",
            "김진모                 [{'nome_do_funcionario': '김진모', 'item_comprado...\n",
            "홍길동                 [{'nome_do_funcionario': '홍길동', 'item_comprado...\n",
            "Length: 4717, dtype: object\n"
          ]
        },
        {
          "output_type": "stream",
          "name": "stderr",
          "text": [
            "<ipython-input-58-7ec6599858d5>:2: DeprecationWarning: DataFrameGroupBy.apply operated on the grouping columns. This behavior is deprecated, and in a future version of pandas the grouping columns will be excluded from the operation. Either pass `include_groups=False` to exclude the groupings or explicitly select the grouping columns after groupby to silence this warning.\n",
            "  dicionario = df.groupby('nome_do_funcionario').apply(lambda x: x.to_dict(orient='records'))\n"
          ]
        }
      ]
    },
    {
      "cell_type": "code",
      "source": [
        "def gerar_relatorio(df):\n",
        "  df_sem_nome = df['nome_do_funcionario'].isna()\n",
        "  df_sem_nome = df[df_sem_nome]\n",
        "  df_valor_alto = df[df['valor_em_real'] > 1000]\n",
        "  df_fora_horario = df[(df['hora_da_compra'] < 6) | (df['hora_da_compra'] > 18)]\n",
        "\n",
        "  compras_suspeitas = pd.concat([df_valor_alto, df_fora_horario, df_sem_nome])\n",
        "\n",
        "  return compras_suspeitas\n",
        "\n",
        "print(gerar_relatorio(df))\n"
      ],
      "metadata": {
        "colab": {
          "base_uri": "https://localhost:8080/"
        },
        "id": "d6TBS4tuoyOc",
        "outputId": "75017a18-79d4-4795-9c10-7e98ffca928f"
      },
      "execution_count": null,
      "outputs": [
        {
          "output_type": "stream",
          "name": "stdout",
          "text": [
            "                 nome_do_funcionario  \\\n",
            "2                       Daljit Singh   \n",
            "16                      MARTIN LOUIS   \n",
            "23                        Jiang, Hui   \n",
            "33                     JAKE KOWALSKY   \n",
            "34    MARIA ANTONIETA GONZÁLEZ LUIJO   \n",
            "...                              ...   \n",
            "971                              NaN   \n",
            "1221                             NaN   \n",
            "2099                             NaN   \n",
            "3348                             NaN   \n",
            "4170                             NaN   \n",
            "\n",
            "                                     item_comprado  valor_em_real  \\\n",
            "2                                           Tablet        1299.00   \n",
            "16                               Aluguel de Imóvel        3912.77   \n",
            "23                                    Plane ticket        1267.79   \n",
            "33              Dell 13 Touchscreen Latitude E5470        1413.98   \n",
            "34    TV 157 CM LCD 1080p Full HD 40W 2 HDMI 1 VGA        3872.00   \n",
            "...                                            ...            ...   \n",
            "971                                           Auto      132000.00   \n",
            "1221                                     Hipotecas           7.00   \n",
            "2099                             Projeto 2019-3488          29.00   \n",
            "3348                    Bicho de Papel - Diferença          18.50   \n",
            "4170                                           NaN          34.99   \n",
            "\n",
            "          data_da_compra  hora_da_compra  \n",
            "2    2024-06-12 09:05:57               9  \n",
            "16   2024-12-18 12:14:32              12  \n",
            "23   2024-02-21 12:13:46              12  \n",
            "33   2024-03-13 12:29:57              12  \n",
            "34   2024-01-29 20:01:56              20  \n",
            "...                  ...             ...  \n",
            "971  2024-08-21 02:10:27               2  \n",
            "1221 2024-08-12 16:45:59              16  \n",
            "2099 2024-06-29 15:34:21              15  \n",
            "3348 2024-05-22 11:27:13              11  \n",
            "4170 2024-01-01 00:00:00               0  \n",
            "\n",
            "[1819 rows x 5 columns]\n"
          ]
        }
      ]
    },
    {
      "cell_type": "code",
      "execution_count": null,
      "metadata": {
        "colab": {
          "base_uri": "https://localhost:8080/"
        },
        "id": "L14NyMvcerwS",
        "outputId": "73899ccf-43cf-465e-97bd-fbf68017df1c"
      },
      "outputs": [
        {
          "output_type": "stream",
          "name": "stdout",
          "text": [
            "Iniciando detecção de fraudes...\n",
            "Detecção de fraudes concluída.\n",
            "Relatório de fraudes gerado com sucesso.\n"
          ]
        }
      ],
      "source": [
        "if __name__ == \"__main__\":\n",
        "    print(\"Iniciando detecção de fraudes...\")\n",
        "    gerar_relatorio(df)\n",
        "    print(\"Detecção de fraudes concluída.\")\n",
        "    pdf_fraudes = gerar_relatorio(df).to_excel('relatorio_de_fraudes.xlsx', index=False)\n",
        "    print(\"Relatório de fraudes gerado com sucesso.\")\n"
      ]
    },
    {
      "cell_type": "code",
      "source": [],
      "metadata": {
        "id": "GPwnECOSf9n3"
      },
      "execution_count": null,
      "outputs": []
    }
  ]
}